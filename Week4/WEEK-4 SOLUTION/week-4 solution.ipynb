{
 "cells": [
  {
   "cell_type": "code",
   "execution_count": 1,
   "id": "b2054568",
   "metadata": {},
   "outputs": [],
   "source": [
    "import sqlite3 as sq\n",
    "import datetime"
   ]
  },
  {
   "cell_type": "code",
   "execution_count": 12,
   "id": "9c19bae0",
   "metadata": {},
   "outputs": [],
   "source": [
    "conn = sq.connect(\"cms.db\")"
   ]
  },
  {
   "cell_type": "code",
   "execution_count": 13,
   "id": "0decf429",
   "metadata": {},
   "outputs": [],
   "source": [
    "cur = conn.cursor()"
   ]
  },
  {
   "cell_type": "code",
   "execution_count": 14,
   "id": "5298010e",
   "metadata": {},
   "outputs": [
    {
     "data": {
      "text/plain": [
       "<sqlite3.Cursor at 0x267ab5e30c0>"
      ]
     },
     "execution_count": 14,
     "metadata": {},
     "output_type": "execute_result"
    }
   ],
   "source": [
    "cur.execute(\"\"\"create table if not exists contact\n",
    "               ( cid int primary key,\n",
    "                 fname text,\n",
    "                 lname text,\n",
    "                 contact number,\n",
    "                 email text,\n",
    "                 city text\n",
    "                 check ( email like '%_@_%._%')\n",
    "                );\"\"\")"
   ]
  },
  {
   "cell_type": "code",
   "execution_count": 15,
   "id": "29834d0e",
   "metadata": {},
   "outputs": [
    {
     "data": {
      "text/plain": [
       "<sqlite3.Cursor at 0x267ab5e30c0>"
      ]
     },
     "execution_count": 15,
     "metadata": {},
     "output_type": "execute_result"
    }
   ],
   "source": [
    "cur.execute(\"\"\"create table if not exists details_log\n",
    "                (\n",
    "                    \n",
    "                    fname text,\n",
    "                    lname text,\n",
    "                    newcontact number,\n",
    "                    oldcontact number,\n",
    "                    datetime text,\n",
    "                    operation text\n",
    "                    \n",
    "                )\"\"\")"
   ]
  },
  {
   "cell_type": "code",
   "execution_count": 16,
   "id": "8b360da2",
   "metadata": {},
   "outputs": [
    {
     "data": {
      "text/plain": [
       "<sqlite3.Cursor at 0x267ab5e30c0>"
      ]
     },
     "execution_count": 16,
     "metadata": {},
     "output_type": "execute_result"
    }
   ],
   "source": [
    "cur.execute(\"\"\"create trigger if not exists insertdata\n",
    "               after insert on contact\n",
    "               begin\n",
    "                   insert into details_log\n",
    "                   values(new.fname,new.lname,new.contact,'NULL',datetime('now'),'insert');\n",
    "               end;\n",
    "                   \"\"\")"
   ]
  },
  {
   "cell_type": "code",
   "execution_count": 17,
   "id": "63ce628f",
   "metadata": {},
   "outputs": [
    {
     "data": {
      "text/plain": [
       "<sqlite3.Cursor at 0x267ab5e30c0>"
      ]
     },
     "execution_count": 17,
     "metadata": {},
     "output_type": "execute_result"
    }
   ],
   "source": [
    "cur.execute(\"\"\"create trigger if not exists deletedata\n",
    "               after delete on contact\n",
    "               begin\n",
    "                   insert into details_log\n",
    "                   values(old.fname,old.lname,'NULL',old.contact,datetime('now'),'delete');\n",
    "               end;\n",
    "                   \"\"\")"
   ]
  },
  {
   "cell_type": "code",
   "execution_count": 18,
   "id": "09ca8503",
   "metadata": {},
   "outputs": [
    {
     "data": {
      "text/plain": [
       "<sqlite3.Cursor at 0x267ab5e30c0>"
      ]
     },
     "execution_count": 18,
     "metadata": {},
     "output_type": "execute_result"
    }
   ],
   "source": [
    "cur.execute(\"\"\"create trigger if not exists deletedata\n",
    "               after delete on contact\n",
    "               begin\n",
    "                   insert into details_log\n",
    "                   values(old.fname,old.lname,'NULL',old.contact,datetime('now'),'delete');\n",
    "               end;\n",
    "                   \"\"\")"
   ]
  },
  {
   "cell_type": "code",
   "execution_count": 19,
   "id": "95bf2814",
   "metadata": {},
   "outputs": [],
   "source": [
    "def updaterecord(cd):\n",
    "    newcon=int(input(\"Enter new Contact Number:\"))\n",
    "    cur.execute(f\"Update contact set contact={newcon} where cid={cd};\")"
   ]
  },
  {
   "cell_type": "code",
   "execution_count": 20,
   "id": "6224a56e",
   "metadata": {},
   "outputs": [],
   "source": [
    "def deleterecord(cd):\n",
    "    cur.execute(f\"delete from contact where cid={cd}\")"
   ]
  },
  {
   "cell_type": "code",
   "execution_count": 21,
   "id": "778ad03e",
   "metadata": {},
   "outputs": [],
   "source": [
    "def searchrecord(cd):\n",
    "    cur.execute(f\"select * from contact where cid={cd}\")\n",
    "    row=cur.fetchall()\n",
    "    print(row)"
   ]
  },
  {
   "cell_type": "code",
   "execution_count": 22,
   "id": "9e2da0c7",
   "metadata": {},
   "outputs": [
    {
     "data": {
      "text/plain": [
       "<sqlite3.Cursor at 0x267ab5e30c0>"
      ]
     },
     "execution_count": 22,
     "metadata": {},
     "output_type": "execute_result"
    }
   ],
   "source": [
    "cur.execute(\"\"\"insert into contact values\n",
    "                (1,'om','patel',9987564535,'om@gmail.com','bardoli'),\n",
    "                (2,'sai','patel',8767564522,'sai@gmail.com','navsari'),\n",
    "                (3,'ram','prajapati',9429075636,'ram@gmail.com','surat'),\n",
    "                (4,'radha','mistry',8176565443,'radha@gmail.com','baroda'),\n",
    "                (5,'shyam','sharma',8976556789,'shyam@gmail.com','mumbai');\"\"\")"
   ]
  },
  {
   "cell_type": "code",
   "execution_count": 23,
   "id": "d9b11db9",
   "metadata": {},
   "outputs": [
    {
     "name": "stdout",
     "output_type": "stream",
     "text": [
      "Enter new Contact Number:8141161675\n"
     ]
    }
   ],
   "source": [
    "updaterecord(2)"
   ]
  },
  {
   "cell_type": "code",
   "execution_count": 24,
   "id": "af04d094",
   "metadata": {},
   "outputs": [],
   "source": [
    "deleterecord(3)"
   ]
  },
  {
   "cell_type": "code",
   "execution_count": 25,
   "id": "079a53cc",
   "metadata": {},
   "outputs": [
    {
     "name": "stdout",
     "output_type": "stream",
     "text": [
      "\n",
      "ID:1\n",
      "Fname:om\n",
      "Lname:patel\n",
      "Contact:9987564535\n",
      "Email:om@gmail.com\n",
      "city:bardoli\n",
      "\n",
      "ID:2\n",
      "Fname:sai\n",
      "Lname:patel\n",
      "Contact:8141161675\n",
      "Email:sai@gmail.com\n",
      "city:navsari\n",
      "\n",
      "ID:4\n",
      "Fname:radha\n",
      "Lname:mistry\n",
      "Contact:8176565443\n",
      "Email:radha@gmail.com\n",
      "city:baroda\n",
      "\n",
      "ID:5\n",
      "Fname:shyam\n",
      "Lname:sharma\n",
      "Contact:8976556789\n",
      "Email:shyam@gmail.com\n",
      "city:mumbai\n"
     ]
    }
   ],
   "source": [
    "cur.execute(\"select * from contact\")\n",
    "row=cur.fetchall()\n",
    "for i in row:\n",
    "    print(f\"\\nID:{i[0]}\\nFname:{i[1]}\\nLname:{i[2]}\\nContact:{i[3]}\\nEmail:{i[4]}\\ncity:{i[5]}\")"
   ]
  },
  {
   "cell_type": "code",
   "execution_count": 26,
   "id": "c14c9093",
   "metadata": {},
   "outputs": [
    {
     "name": "stdout",
     "output_type": "stream",
     "text": [
      "[('om', 'patel', 9987564535, 'NULL', '2023-08-18 04:56:58', 'insert'), ('sai', 'patel', 8767564522, 'NULL', '2023-08-18 04:56:58', 'insert'), ('ram', 'prajapati', 9429075636, 'NULL', '2023-08-18 04:56:58', 'insert'), ('radha', 'mistry', 8176565443, 'NULL', '2023-08-18 04:56:58', 'insert'), ('shyam', 'sharma', 8976556789, 'NULL', '2023-08-18 04:56:58', 'insert'), ('ram', 'prajapati', 'NULL', 9429075636, '2023-08-18 04:57:26', 'delete')]\n",
      "\n",
      "Fname:om\n",
      "Lname:patel\n",
      "New-contact:9987564535\n",
      "Old-Contact:NULL\n",
      "Datetime:2023-08-18 04:56:58\n",
      "Operation:insert\n",
      "\n",
      "Fname:sai\n",
      "Lname:patel\n",
      "New-contact:8767564522\n",
      "Old-Contact:NULL\n",
      "Datetime:2023-08-18 04:56:58\n",
      "Operation:insert\n",
      "\n",
      "Fname:ram\n",
      "Lname:prajapati\n",
      "New-contact:9429075636\n",
      "Old-Contact:NULL\n",
      "Datetime:2023-08-18 04:56:58\n",
      "Operation:insert\n",
      "\n",
      "Fname:radha\n",
      "Lname:mistry\n",
      "New-contact:8176565443\n",
      "Old-Contact:NULL\n",
      "Datetime:2023-08-18 04:56:58\n",
      "Operation:insert\n",
      "\n",
      "Fname:shyam\n",
      "Lname:sharma\n",
      "New-contact:8976556789\n",
      "Old-Contact:NULL\n",
      "Datetime:2023-08-18 04:56:58\n",
      "Operation:insert\n",
      "\n",
      "Fname:ram\n",
      "Lname:prajapati\n",
      "New-contact:NULL\n",
      "Old-Contact:9429075636\n",
      "Datetime:2023-08-18 04:57:26\n",
      "Operation:delete\n"
     ]
    }
   ],
   "source": [
    "cur.execute(\"select * from details_log\")\n",
    "row1=cur.fetchall()\n",
    "print(row1)\n",
    "for i in row1:\n",
    "    print(f\"\\nFname:{i[0]}\\nLname:{i[1]}\\nNew-contact:{i[2]}\\nOld-Contact:{i[3]}\\nDatetime:{i[4]}\\nOperation:{i[5]}\")"
   ]
  },
  {
   "cell_type": "code",
   "execution_count": null,
   "id": "dd1ce591",
   "metadata": {},
   "outputs": [],
   "source": []
  }
 ],
 "metadata": {
  "kernelspec": {
   "display_name": "Python 3 (ipykernel)",
   "language": "python",
   "name": "python3"
  },
  "language_info": {
   "codemirror_mode": {
    "name": "ipython",
    "version": 3
   },
   "file_extension": ".py",
   "mimetype": "text/x-python",
   "name": "python",
   "nbconvert_exporter": "python",
   "pygments_lexer": "ipython3",
   "version": "3.11.4"
  }
 },
 "nbformat": 4,
 "nbformat_minor": 5
}
